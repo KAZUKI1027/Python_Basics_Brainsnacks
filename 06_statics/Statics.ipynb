{
 "cells": [
  {
   "cell_type": "markdown",
   "metadata": {
    "id": "AkeC8FJQ1TIb"
   },
   "source": [
    "## <strong>代表的な離散確率分布</strong>\n",
    "本章ではよく使われる離散型の確率分布に関してPythonを用いてそれぞれ原理の説明と図示をしていきます。\n",
    "\n",
    "**本章で説明する離散型確率分布**\n",
    "- ベルヌーイ分布\n",
    "-二項分布\n",
    "-幾何分布\n",
    "-ポアソン分布"
   ]
  },
  {
   "cell_type": "markdown",
   "metadata": {
    "id": "JuA8EoOhyt42"
   },
   "source": [
    "## <strong>1. 使用するライブラリをインポートする</strong>\n",
    "本章では以下のライブラリを使用します。\n",
    "\n",
    "SciPyのstatsモジュールは統計計算の為に様々なツールがそろったライブラリです。\n",
    "詳細に関しては[こちら](https://www.scipy.org/index.html)を参照ください。\n",
    "\n",
    "Google Colaboratoryでは以下すべてのパッケージはデフォルトでインストールされています。\n",
    "\n",
    "**Numpy** : 確率変数計算\n",
    "\n",
    "**matplotlib** : 各離散型確率図示の分布の図示\n",
    "\n",
    "**Scipy** : 統計計算"
   ]
  },
  {
   "cell_type": "code",
   "execution_count": 3,
   "metadata": {
    "id": "HugSmXt81psd"
   },
   "outputs": [
    {
     "name": "stderr",
     "output_type": "stream",
     "text": [
      "UsageError: unrecognized arguments: # Jupyter NOtebook上にグラフを記載するための宣言\n"
     ]
    }
   ],
   "source": [
    "import numpy as np\n",
    "import matplotlib.pyplot as plt\n",
    "from scipy import stats\n",
    "\n",
    "%matplotlib inline # Jupyter NOtebook上にグラフを記載するための宣言"
   ]
  },
  {
   "cell_type": "markdown",
   "metadata": {
    "id": "VqNxvFsGytP7"
   },
   "source": [
    "## <strong>2. 確率分布の性質を確認するための関数を定義する</strong>\n",
    "\n",
    "期待値/分散について関数を定義します。それぞれの数学的意義は以下を参照ください。\n",
    "<br><br>\n",
    "> ### **期待値**\n",
    "\n",
    "”確率変数を無限回試行して得られた現実値の平均”を期待値と同義と定義する。\n",
    "\n",
    "数式では以下で表現される。<br><br>\n",
    "$E(x) = \\sum_kx_{k}f(x_{k})$\n",
    "<br><br>\n",
    "$x_{k}$ = 確率変数\n",
    "\n",
    "$f(x_{k})$ = 確率\n",
    "<br><br>\n",
    "\n",
    "> ### **分散**\n",
    "\n",
    "”データのばらつきを示す指標と定義する。\n",
    "\n",
    "数式では以下で表現される。<br><br>\n",
    "$V(x) = \\sum_k（x_{k}-\\mu)^{2}f(x_{k})$\n",
    "<br><br>\n",
    "$x_{k}$ = 確率変数<br>\n",
    "$\\mu$ = 平均(確率変数$x_{k}$の期待値)<br>\n",
    "$f(x_{k})$ = 確率\n"
   ]
  },
  {
   "cell_type": "code",
   "execution_count": 4,
   "metadata": {
    "id": "nY_NYWHf4Jf6"
   },
   "outputs": [],
   "source": [
    "# グラフの線の種類を指定\n",
    "linestyles = ['-', '--', ':']\n",
    "\n",
    "#期待値計算\n",
    "def E(X, g=lambda x: x):\n",
    "    x_set, f = X\n",
    "    return np.sum([g(x_k) * f(x_k) for x_k in x_set])\n",
    "\n",
    "#分散計算\n",
    "def V(X, g=lambda x: x):\n",
    "    x_set, f = X\n",
    "    mean = E(X, g)\n",
    "    return np.sum([(g(x_k)-mean)**2 * f(x_k) for x_k in x_set])\n",
    "\n",
    "#確率変数の性質確認\n",
    "def check_prob(X):\n",
    "    x_set, f = X\n",
    "    prob = np.array([f(x_k) for x_k in x_set])\n",
    "    assert np.all(prob >= 0), '確率が0以下です'\n",
    "    prob_sum = np.round(np.sum(prob), 6)\n",
    "    assert prob_sum == 1, f'確率総和が1ではありません'\n",
    "    print(f'期待値 : {E(X):.4}')\n",
    "    print(f'分散 : {(V(X)):.4}')\n",
    "\n",
    "#確率変数を引数に確率変数の確率関数および期待値を図示\n",
    "def plot_prob(X):\n",
    "    x_set, f = X\n",
    "    prob = np.array([f(x_k) for x_k in x_set])\n",
    "    \n",
    "    fig = plt.figure(figsize=(10, 6))\n",
    "    ax = fig.add_subplot(111)\n",
    "    ax.bar(x_set, prob, label='prob')\n",
    "    ax.vlines(E(X), 0, 1, label='mean')\n",
    "    ax.set_xticks(np.append(x_set, E(X)))\n",
    "    ax.set_ylim(0, prob.max()*1.2)\n",
    "    ax.legend()\n",
    "    \n",
    "    plt.show()"
   ]
  },
  {
   "cell_type": "code",
   "execution_count": null,
   "metadata": {
    "id": "0yHB5L25Avcx"
   },
   "outputs": [],
   "source": []
  }
 ],
 "metadata": {
  "colab": {
   "collapsed_sections": [],
   "name": "Statics.ipynb",
   "provenance": [],
   "toc_visible": true
  },
  "kernelspec": {
   "display_name": "Python 3",
   "language": "python",
   "name": "python3"
  },
  "language_info": {
   "codemirror_mode": {
    "name": "ipython",
    "version": 3
   },
   "file_extension": ".py",
   "mimetype": "text/x-python",
   "name": "python",
   "nbconvert_exporter": "python",
   "pygments_lexer": "ipython3",
   "version": "3.7.4"
  }
 },
 "nbformat": 4,
 "nbformat_minor": 1
}
