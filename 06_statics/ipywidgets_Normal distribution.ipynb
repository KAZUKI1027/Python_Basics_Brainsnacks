{
 "cells": [
  {
   "cell_type": "markdown",
   "metadata": {},
   "source": []
  },
  {
   "cell_type": "markdown",
   "metadata": {},
   "source": [
    "## ipywidgetsを用いたUI Componentグラフの記載"
   ]
  },
  {
   "cell_type": "markdown",
   "metadata": {},
   "source": [
    "stas.normで正規分布を表現する。locは期待値、scaleは標準偏差\n",
    "平均を μ, 分散を σ2 > 0 とする（1次元）正規分布とは、確率密度関数が次の形（ガウス関数と呼ばれる）\n",
    "\n",
    "stats.poissonでポアソン分布に従う。\n",
    "＊ポアソン分布とは、(どの時点でも同様な起こりやすさでランダムに起こる現象と仮定した場合に)「単位時間あたりに平均 λ 回起こる現象が、単位時間に k 回起きる確率」を表すのに使われる確率分布のこと。\n",
    "\n",
    "X.ppf: パーセント点関数(ppf(0.5)は第2四分点 median)\n",
    "X.pdf: 確率密度関数\n",
    "X.pmf: 確率質量関数（かくりつしつりょうかんすう、英: probability mass function, PMF）とは、確率論および統計学において、離散型確率変数にその値をとる確率を対応させる関数のことである（単に確率関数ということもある\n",
    "\n"
   ]
  },
  {
   "cell_type": "code",
   "execution_count": 13,
   "metadata": {},
   "outputs": [],
   "source": [
    "import matplotlib.pyplot as plt\n",
    "import numpy as np\n",
    "from scipy import stats\n",
    "\n",
    "def f(mu):\n",
    "    X = stats.norm(loc=mu, scale=np.sqrt(mu))\n",
    "    N = stats.poisson(mu)\n",
    "    x = np.linspace(0,X.ppf(0.999))\n",
    "    n = np.arange(0 , x[-1])\n",
    "    \n",
    "    fig, ax = plt.subplots()\n",
    "    ax.plot(x, X.pdf(x), color ='black', lw =2, label=\"Normal($\\mu=%d, \\sigma^2=%d$)\"%(mu,mu))\n",
    "    ax.bar(n,N.pmf(n),align='edge', label = r\"Poisson($\\lambda=%d$)\" % mu)\n",
    "    ax.set_ylim(0,X.pdf(x).max() *1.25)\n",
    "    ax.legend(loc=2,ncol=2)\n",
    "    plt.close(fig)\n",
    "    return fig\n",
    "    "
   ]
  },
  {
   "cell_type": "code",
   "execution_count": 14,
   "metadata": {},
   "outputs": [],
   "source": [
    "from ipywidgets import interact\n",
    "import ipywidgets as widgets "
   ]
  },
  {
   "cell_type": "code",
   "execution_count": 15,
   "metadata": {},
   "outputs": [
    {
     "data": {
      "application/vnd.jupyter.widget-view+json": {
       "model_id": "7ad60b67e5124176bb6a54df0a5b4c9f",
       "version_major": 2,
       "version_minor": 0
      },
      "text/plain": [
       "interactive(children=(FloatSlider(value=1.0, description='mu', max=20.0, min=1.0, step=1.0), Output()), _dom_c…"
      ]
     },
     "metadata": {},
     "output_type": "display_data"
    }
   ],
   "source": [
    "interact(f, mu=widgets.FloatSlider(min=1.0,max=20, step=1));"
   ]
  },
  {
   "cell_type": "code",
   "execution_count": null,
   "metadata": {},
   "outputs": [],
   "source": []
  }
 ],
 "metadata": {
  "kernelspec": {
   "display_name": "Python 3",
   "language": "python",
   "name": "python3"
  },
  "language_info": {
   "codemirror_mode": {
    "name": "ipython",
    "version": 3
   },
   "file_extension": ".py",
   "mimetype": "text/x-python",
   "name": "python",
   "nbconvert_exporter": "python",
   "pygments_lexer": "ipython3",
   "version": "3.7.4"
  }
 },
 "nbformat": 4,
 "nbformat_minor": 2
}
