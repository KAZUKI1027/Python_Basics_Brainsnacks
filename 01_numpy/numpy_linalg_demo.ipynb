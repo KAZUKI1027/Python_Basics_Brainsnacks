{
 "metadata": {
  "language_info": {
   "codemirror_mode": {
    "name": "ipython",
    "version": 3
   },
   "file_extension": ".py",
   "mimetype": "text/x-python",
   "name": "python",
   "nbconvert_exporter": "python",
   "pygments_lexer": "ipython3",
   "version": "3.8.6-final"
  },
  "orig_nbformat": 2,
  "kernelspec": {
   "name": "python3",
   "display_name": "Python 3.8.6 64-bit ('data_analysis': conda)",
   "metadata": {
    "interpreter": {
     "hash": "b9e7cdce5a314df6aab8719133648376a87906f5513a209bf492d8ae3945124f"
    }
   }
  }
 },
 "nbformat": 4,
 "nbformat_minor": 2,
 "cells": [
  {
   "source": [
    "# 固有値分解/特異値分解"
   ],
   "cell_type": "markdown",
   "metadata": {}
  },
  {
   "cell_type": "code",
   "execution_count": 1,
   "metadata": {},
   "outputs": [
    {
     "output_type": "stream",
     "name": "stdout",
     "text": [
      "固有値\n[7. 3.]\n固有ベクトル P \n[[ 0.70710678 -0.70710678]\n [ 0.70710678  0.70710678]]\n固有値分解 確認 A = P x D x P-1\n[[5. 2.]\n [2. 5.]]\n"
     ]
    }
   ],
   "source": [
    "# linalgモジュールはLAとしてimportする\n",
    "import numpy as np\n",
    "import numpy.linalg as LA\n",
    "\n",
    "#2次正方行列Aを定義する\n",
    "a = np.array([[5, 2],[2, 5]])\n",
    "\n",
    "# 2 次正方行列 Aの固有値、固有ベクトルPを計算する\n",
    "l, p = LA.eig(a)\n",
    "print(\"固有値\")\n",
    "print(l)  # 固有値\n",
    "print(\"固有ベクトル P \")\n",
    "print(p)  # 固有ベクトル(正規化済)\n",
    "\n",
    "#対角行列D、Pの逆行列P-1を定義\n",
    "d = np.array([[l[0],0],[0,l[1]]])\n",
    "pinv = LA.inv(p)\n",
    "\n",
    "#固有値分解の確認（P＊D＊P-1） 行列Aが算出される\n",
    "print(\"固有値分解 確認 A = P x D x P-1\")\n",
    "print(np.dot(np.dot(p,d),pinv))"
   ]
  },
  {
   "cell_type": "code",
   "execution_count": 2,
   "metadata": {},
   "outputs": [
    {
     "output_type": "stream",
     "name": "stdout",
     "text": [
      "左特異値ベクトルを列として並べた２次正方行列 U\n[[-0.70710678 -0.70710678]\n [-0.70710678  0.70710678]]\n特異値以外を0で埋めた２次正方行列 Σ\n[[7. 0.]\n [0. 3.]]\n右特異値ベクトルを列として並べた２次正方行列 V\n[[-0.70710678 -0.70710678]\n [-0.70710678  0.70710678]]\n固有値分解 確認 A = U x Σ x Vt\n[[5. 2.]\n [2. 5.]]\n"
     ]
    }
   ],
   "source": [
    "# linalgモジュールはLAとしてimportする\n",
    "import numpy as np\n",
    "import numpy.linalg as LA\n",
    "\n",
    "#2次正方行列Aを定義する\n",
    "a = np.array([[5, 2],[2, 5]])\n",
    "\n",
    "# 2 次正方行列 U,Σ,V(転置行列)を求める\n",
    "U, S, Vt = LA.svd(a, full_matrices=True)\n",
    "print(\"左特異値ベクトルを列として並べた２次正方行列 U\")\n",
    "print(U)\n",
    "print(\"特異値以外を0で埋めた２次正方行列 Σ\")\n",
    "print(np.diag(S))\n",
    "print(\"右特異値ベクトルを列として並べた２次正方行列 V\")\n",
    "print(Vt)\n",
    "\n",
    "#特異値分解の確認（U＊Σ＊Vt） 行列Aが算出される\n",
    "print(\"固有値分解 確認 A = U x Σ x Vt\")\n",
    "print(np.dot(np.dot(U,np.diag(S)),Vt))"
   ]
  },
  {
   "cell_type": "code",
   "execution_count": null,
   "metadata": {},
   "outputs": [],
   "source": []
  }
 ]
}