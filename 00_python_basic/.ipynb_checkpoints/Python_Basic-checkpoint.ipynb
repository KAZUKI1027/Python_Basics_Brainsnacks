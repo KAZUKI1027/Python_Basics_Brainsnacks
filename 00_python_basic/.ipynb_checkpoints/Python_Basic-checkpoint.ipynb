{
 "cells": [
  {
   "cell_type": "markdown",
   "metadata": {},
   "source": [
    "## LIST SLICING"
   ]
  },
  {
   "cell_type": "code",
   "execution_count": 1,
   "metadata": {},
   "outputs": [
    {
     "data": {
      "text/plain": [
       "'King'"
      ]
     },
     "execution_count": 1,
     "metadata": {},
     "output_type": "execute_result"
    }
   ],
   "source": [
    "Trumps = [\"King\",\"Queen\",\"Jack\",\"Ace\",\"Joker\"]\n",
    "#リストはゼロから始まる\n",
    "Trumps[0]"
   ]
  },
  {
   "cell_type": "code",
   "execution_count": 2,
   "metadata": {},
   "outputs": [
    {
     "data": {
      "text/plain": [
       "['King', 'Queen', 'Jack']"
      ]
     },
     "execution_count": 2,
     "metadata": {},
     "output_type": "execute_result"
    }
   ],
   "source": [
    "#リストスライスは「:」を使用。後ろの番号のアイテムは含まれない。\n",
    "Trumps[0:3]"
   ]
  },
  {
   "cell_type": "code",
   "execution_count": 6,
   "metadata": {},
   "outputs": [
    {
     "data": {
      "text/plain": [
       "['Queen', 'Jack', 'Ace', 'Joker']"
      ]
     },
     "execution_count": 6,
     "metadata": {},
     "output_type": "execute_result"
    }
   ],
   "source": [
    "#リストスライスで片側前からの指定もできる。前から除きたいアイテムの位置を指定。\n",
    "Trumps[1:]"
   ]
  },
  {
   "cell_type": "code",
   "execution_count": 7,
   "metadata": {},
   "outputs": [
    {
     "data": {
      "text/plain": [
       "['King', 'Queen', 'Jack', 'Ace']"
      ]
     },
     "execution_count": 7,
     "metadata": {},
     "output_type": "execute_result"
    }
   ],
   "source": [
    "#リストスライスで片側後ろからの指定もできる。後ろから除きたいアイテムの位置を指定。\n",
    "Trumps[:-1]"
   ]
  },
  {
   "cell_type": "markdown",
   "metadata": {},
   "source": [
    "## List Adding"
   ]
  },
  {
   "cell_type": "code",
   "execution_count": 3,
   "metadata": {
    "ExecuteTime": {
     "end_time": "2021-03-01T08:58:05.779597Z",
     "start_time": "2021-03-01T08:58:05.752669Z"
    }
   },
   "outputs": [
    {
     "data": {
      "text/plain": [
       "['King', 'Queen', 'Jack', 'Ace']"
      ]
     },
     "execution_count": 3,
     "metadata": {},
     "output_type": "execute_result"
    }
   ],
   "source": [
    "Trumps = [\"King\",\"Queen\",\"Jack\"]\n",
    "\n",
    "Trumps.append(\"Ace\")\n",
    "Trumps"
   ]
  },
  {
   "cell_type": "code",
   "execution_count": 4,
   "metadata": {
    "ExecuteTime": {
     "end_time": "2021-03-01T08:58:36.200022Z",
     "start_time": "2021-03-01T08:58:36.180075Z"
    }
   },
   "outputs": [
    {
     "data": {
      "text/plain": [
       "['King', 'Queen', 'Jack', 'Ace', 'Joker']"
      ]
     },
     "execution_count": 4,
     "metadata": {},
     "output_type": "execute_result"
    }
   ],
   "source": [
    "Trumps = [\"King\",\"Queen\",\"Jack\"]\n",
    "\n",
    "Trumps.extend([\"Ace\",\"Joker\"])\n",
    "Trumps"
   ]
  },
  {
   "cell_type": "code",
   "execution_count": 8,
   "metadata": {
    "ExecuteTime": {
     "end_time": "2021-03-01T09:01:05.400310Z",
     "start_time": "2021-03-01T09:01:05.378371Z"
    }
   },
   "outputs": [
    {
     "data": {
      "text/plain": [
       "['King', 'Queen', 'Jack', 'Ace', 'Joker']"
      ]
     },
     "execution_count": 8,
     "metadata": {},
     "output_type": "execute_result"
    }
   ],
   "source": [
    "Trumps = [\"King\",\"Queen\",\"Jack\",\"Ace\"]\n",
    "\n",
    "Trumps.insert(4, \"Joker\")\n",
    "Trumps"
   ]
  },
  {
   "cell_type": "code",
   "execution_count": null,
   "metadata": {},
   "outputs": [],
   "source": []
  }
 ],
 "metadata": {
  "kernelspec": {
   "display_name": "Python 3",
   "language": "python",
   "name": "python3"
  },
  "toc": {
   "base_numbering": 1,
   "nav_menu": {},
   "number_sections": true,
   "sideBar": true,
   "skip_h1_title": false,
   "title_cell": "Table of Contents",
   "title_sidebar": "Contents",
   "toc_cell": false,
   "toc_position": {},
   "toc_section_display": true,
   "toc_window_display": false
  },
  "varInspector": {
   "cols": {
    "lenName": 16,
    "lenType": 16,
    "lenVar": 40
   },
   "kernels_config": {
    "python": {
     "delete_cmd_postfix": "",
     "delete_cmd_prefix": "del ",
     "library": "var_list.py",
     "varRefreshCmd": "print(var_dic_list())"
    },
    "r": {
     "delete_cmd_postfix": ") ",
     "delete_cmd_prefix": "rm(",
     "library": "var_list.r",
     "varRefreshCmd": "cat(var_dic_list()) "
    }
   },
   "types_to_exclude": [
    "module",
    "function",
    "builtin_function_or_method",
    "instance",
    "_Feature"
   ],
   "window_display": false
  }
 },
 "nbformat": 4,
 "nbformat_minor": 4
}
